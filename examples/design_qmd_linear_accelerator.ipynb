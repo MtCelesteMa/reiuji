{
 "cells": [
  {
   "cell_type": "markdown",
   "metadata": {},
   "source": [
    "# Designing a QMD Linear Accelerator with Reiuji\n",
    "\n",
    "This guide will walk you through the process of designing a QMD (Quantum Minecraft Dynamics) linear accelerator using Reiuji.\n",
    "\n",
    "Firstly, import the required packages:"
   ]
  },
  {
   "cell_type": "code",
   "execution_count": 1,
   "metadata": {},
   "outputs": [],
   "source": [
    "import reiuji"
   ]
  },
  {
   "cell_type": "markdown",
   "metadata": {},
   "source": [
    "Next, you need to initialize the designer as follows. Some parameters such as `charge` is required for calculating the focus of the beam (which must remain greater than 0 for the accelerator to function properly).\n",
    "\n",
    "The following parameters are for an accelerator with a length of 15 blocks for accelerating boron ions for creating P-type silicon (one of the first accelerator recipes encountered):"
   ]
  },
  {
   "cell_type": "code",
   "execution_count": 2,
   "metadata": {},
   "outputs": [],
   "source": [
    "designer = reiuji.qmd.linear.LinearAcceleratorDesigner(\n",
    "    length=15,\n",
    "    minimum_energy=600, # KeV\n",
    "    maximum_energy=1000, # KeV\n",
    "    target_focus=2.5, # At least 2.0 is required, but higher is recommended.\n",
    "    charge=1.0, # In multiples of the electron charge.\n",
    "    beam_strength=10000, # pu/t, this will vary depending on the beam output.\n",
    "    initial_focus=0.4, # Standard ion source has an initial focus of 0.4.\n",
    "    y_symmetry=True,\n",
    "    z_symmetry=True\n",
    ")"
   ]
  },
  {
   "cell_type": "markdown",
   "metadata": {},
   "source": [
    "After that, it is time to run the designer."
   ]
  },
  {
   "cell_type": "code",
   "execution_count": 3,
   "metadata": {},
   "outputs": [],
   "source": [
    "design = designer.design()"
   ]
  },
  {
   "cell_type": "markdown",
   "metadata": {},
   "source": [
    "If a valid design is found, the designer will return it as a multi-dimensional sequence. Else, it will return `None`.\n",
    "\n",
    "Finally, visualize the design."
   ]
  },
  {
   "cell_type": "code",
   "execution_count": 4,
   "metadata": {},
   "outputs": [
    {
     "name": "stdout",
     "output_type": "stream",
     "text": [
      "X  X  X  X  X  \n",
      "X  X  X  X  X  \n",
      "X  X  X  X  X  \n",
      "X  X  X  X  X  \n",
      "X  X  X  X  X  \n",
      "\n",
      "X  X  X  X  X  \n",
      "X  Fe \u001b[3mMg\u001b[0m Fe X  \n",
      "X  \u001b[3mMg\u001b[0m 0  \u001b[3mMg\u001b[0m X  \n",
      "X  Fe \u001b[3mMg\u001b[0m Fe X  \n",
      "X  X  X  X  X  \n",
      "\n",
      "X  X  X  X  X  \n",
      "X  Au \u001b[3mCu\u001b[0m Au X  \n",
      "X  \u001b[3mCu\u001b[0m 0  \u001b[3mCu\u001b[0m X  \n",
      "X  Au \u001b[3mCu\u001b[0m Au X  \n",
      "X  X  X  X  X  \n",
      "\n",
      "X  X  X  X  X  \n",
      "X  Fe \u001b[3mMg\u001b[0m Fe X  \n",
      "X  \u001b[3mMg\u001b[0m 0  \u001b[3mMg\u001b[0m X  \n",
      "X  Fe \u001b[3mMg\u001b[0m Fe X  \n",
      "X  X  X  X  X  \n",
      "\n",
      "X  X  X  X  X  \n",
      "X  Au Gs Au X  \n",
      "X     0     X  \n",
      "X  Au Gs Au X  \n",
      "X  X  X  X  X  \n",
      "\n",
      "X  X  X  X  X  \n",
      "X  Fe \u001b[3mCu\u001b[0m Fe X  \n",
      "X  \u001b[3mCu\u001b[0m 0  \u001b[3mCu\u001b[0m X  \n",
      "X  Fe \u001b[3mCu\u001b[0m Fe X  \n",
      "X  X  X  X  X  \n",
      "\n",
      "X  X  X  X  X  \n",
      "X     Fe    X  \n",
      "X  Fe 0  Fe X  \n",
      "X     Fe    X  \n",
      "X  X  X  X  X  \n",
      "\n",
      "X  X  X  X  X  \n",
      "X  Fe \u001b[3mMg\u001b[0m Fe X  \n",
      "X  \u001b[3mMg\u001b[0m 0  \u001b[3mMg\u001b[0m X  \n",
      "X  Fe \u001b[3mMg\u001b[0m Fe X  \n",
      "X  X  X  X  X  \n",
      "\n",
      "X  X  X  X  X  \n",
      "X     Fe    X  \n",
      "X  Fe 0  Fe X  \n",
      "X     Fe    X  \n",
      "X  X  X  X  X  \n",
      "\n",
      "X  X  X  X  X  \n",
      "X  Cu W  Cu X  \n",
      "X     0     X  \n",
      "X  Cu W  Cu X  \n",
      "X  X  X  X  X  \n",
      "\n",
      "X  X  X  X  X  \n",
      "X  \u001b[1mCu\u001b[0m \u001b[1mCu\u001b[0m \u001b[1mCu\u001b[0m X  \n",
      "X  \u001b[1mCu\u001b[0m 0  \u001b[1mCu\u001b[0m X  \n",
      "X  \u001b[1mCu\u001b[0m \u001b[1mCu\u001b[0m \u001b[1mCu\u001b[0m X  \n",
      "X  X  X  X  X  \n",
      "\n",
      "X  X  X  X  X  \n",
      "X  Em \u001b[3mNS\u001b[0m Em X  \n",
      "X  \u001b[3mNS\u001b[0m 0  \u001b[3mNS\u001b[0m X  \n",
      "X  Em \u001b[3mNS\u001b[0m Em X  \n",
      "X  X  X  X  X  \n",
      "\n",
      "X  X  X  X  X  \n",
      "X  Pm W  Pm X  \n",
      "X  W  0  W  X  \n",
      "X  Pm W  Pm X  \n",
      "X  X  X  X  X  \n",
      "\n",
      "X  X  X  X  X  \n",
      "X  \u001b[1mCu\u001b[0m \u001b[1mCu\u001b[0m \u001b[1mCu\u001b[0m X  \n",
      "X  \u001b[1mCu\u001b[0m 0  \u001b[1mCu\u001b[0m X  \n",
      "X  \u001b[1mCu\u001b[0m \u001b[1mCu\u001b[0m \u001b[1mCu\u001b[0m X  \n",
      "X  X  X  X  X  \n",
      "\n",
      "X  X  X  X  X  \n",
      "X  As Ag As X  \n",
      "X     0     X  \n",
      "X  As Ag As X  \n",
      "X  X  X  X  X  \n",
      "\n",
      "X  X  X  X  X  \n",
      "X  \u001b[1mMg\u001b[0m \u001b[1mMg\u001b[0m \u001b[1mMg\u001b[0m X  \n",
      "X  \u001b[1mMg\u001b[0m 0  \u001b[1mMg\u001b[0m X  \n",
      "X  \u001b[1mMg\u001b[0m \u001b[1mMg\u001b[0m \u001b[1mMg\u001b[0m X  \n",
      "X  X  X  X  X  \n",
      "\n",
      "X  X  X  X  X  \n",
      "X  X  X  X  X  \n",
      "X  X  X  X  X  \n",
      "X  X  X  X  X  \n",
      "X  X  X  X  X  \n",
      "\n"
     ]
    }
   ],
   "source": [
    "if isinstance(design, type(None)):\n",
    "    print(\"No solution found.\")\n",
    "else:\n",
    "    for x in range(design.shape[0]):\n",
    "        for y in range(5):\n",
    "            for z in range(5):\n",
    "                print(design[x, y, z].short_name, end=\" \")\n",
    "            print()\n",
    "        print()"
   ]
  },
  {
   "cell_type": "markdown",
   "metadata": {},
   "source": [
    "Reiuji uses short 2-letter names for printing purposes to keep the display organized. For QMD accelerators, **bolded names** indicates cavities, while *italicized names* indicate electromagnets."
   ]
  }
 ],
 "metadata": {
  "kernelspec": {
   "display_name": ".venv",
   "language": "python",
   "name": "python3"
  },
  "language_info": {
   "codemirror_mode": {
    "name": "ipython",
    "version": 3
   },
   "file_extension": ".py",
   "mimetype": "text/x-python",
   "name": "python",
   "nbconvert_exporter": "python",
   "pygments_lexer": "ipython3",
   "version": "3.12.3"
  }
 },
 "nbformat": 4,
 "nbformat_minor": 2
}
